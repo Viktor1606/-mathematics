{
 "cells": [
  {
   "cell_type": "code",
   "execution_count": 81,
   "id": "39a06116",
   "metadata": {},
   "outputs": [],
   "source": [
    "import numpy as np\n",
    "import pandas as pd\n",
    "import re\n",
    "from scipy import stats"
   ]
  },
  {
   "cell_type": "code",
   "execution_count": 82,
   "id": "1b88759e",
   "metadata": {},
   "outputs": [
    {
     "data": {
      "text/html": [
       "<div>\n",
       "<style scoped>\n",
       "    .dataframe tbody tr th:only-of-type {\n",
       "        vertical-align: middle;\n",
       "    }\n",
       "\n",
       "    .dataframe tbody tr th {\n",
       "        vertical-align: top;\n",
       "    }\n",
       "\n",
       "    .dataframe thead th {\n",
       "        text-align: right;\n",
       "    }\n",
       "</style>\n",
       "<table border=\"1\" class=\"dataframe\">\n",
       "  <thead>\n",
       "    <tr style=\"text-align: right;\">\n",
       "      <th></th>\n",
       "      <th>City</th>\n",
       "      <th>Country</th>\n",
       "      <th># of CCTV Cameras</th>\n",
       "      <th># of People</th>\n",
       "      <th># of CCTV Cameras per 1,000 People</th>\n",
       "      <th>Cameras per Square Mile</th>\n",
       "      <th>Crime Index</th>\n",
       "    </tr>\n",
       "  </thead>\n",
       "  <tbody>\n",
       "    <tr>\n",
       "      <th>0</th>\n",
       "      <td>Taiyuan</td>\n",
       "      <td>China</td>\n",
       "      <td>465255.0</td>\n",
       "      <td>3975985.0</td>\n",
       "      <td>117.02</td>\n",
       "      <td>174.39</td>\n",
       "      <td>34.31</td>\n",
       "    </tr>\n",
       "    <tr>\n",
       "      <th>1</th>\n",
       "      <td>Wuxi</td>\n",
       "      <td>China</td>\n",
       "      <td>300000.0</td>\n",
       "      <td>3315113.0</td>\n",
       "      <td>90.49</td>\n",
       "      <td>472.66</td>\n",
       "      <td>7.84</td>\n",
       "    </tr>\n",
       "    <tr>\n",
       "      <th>2</th>\n",
       "      <td>London</td>\n",
       "      <td>England (UK)</td>\n",
       "      <td>691000.0</td>\n",
       "      <td>9425622.0</td>\n",
       "      <td>73.31</td>\n",
       "      <td>1138.48</td>\n",
       "      <td>53.07</td>\n",
       "    </tr>\n",
       "    <tr>\n",
       "      <th>3</th>\n",
       "      <td>Indore</td>\n",
       "      <td>India</td>\n",
       "      <td>200600.0</td>\n",
       "      <td>3113445.0</td>\n",
       "      <td>64.43</td>\n",
       "      <td>133.29</td>\n",
       "      <td>49.88</td>\n",
       "    </tr>\n",
       "    <tr>\n",
       "      <th>4</th>\n",
       "      <td>Changsha</td>\n",
       "      <td>China</td>\n",
       "      <td>262000.0</td>\n",
       "      <td>4694722.0</td>\n",
       "      <td>55.81</td>\n",
       "      <td>353.85</td>\n",
       "      <td>21.38</td>\n",
       "    </tr>\n",
       "    <tr>\n",
       "      <th>...</th>\n",
       "      <td>...</td>\n",
       "      <td>...</td>\n",
       "      <td>...</td>\n",
       "      <td>...</td>\n",
       "      <td>...</td>\n",
       "      <td>...</td>\n",
       "      <td>...</td>\n",
       "    </tr>\n",
       "    <tr>\n",
       "      <th>130</th>\n",
       "      <td>Riyadh</td>\n",
       "      <td>Saudi Arabia</td>\n",
       "      <td>150.0</td>\n",
       "      <td>7387817.0</td>\n",
       "      <td>0.02</td>\n",
       "      <td>0.22</td>\n",
       "      <td>26.99</td>\n",
       "    </tr>\n",
       "    <tr>\n",
       "      <th>131</th>\n",
       "      <td>Abuja</td>\n",
       "      <td>Nigeria</td>\n",
       "      <td>40.0</td>\n",
       "      <td>3464123.0</td>\n",
       "      <td>0.01</td>\n",
       "      <td>0.01</td>\n",
       "      <td>59.57</td>\n",
       "    </tr>\n",
       "    <tr>\n",
       "      <th>132</th>\n",
       "      <td>Bekasi</td>\n",
       "      <td>Indonesia</td>\n",
       "      <td>29.0</td>\n",
       "      <td>3510050.0</td>\n",
       "      <td>0.01</td>\n",
       "      <td>0.35</td>\n",
       "      <td>35.85</td>\n",
       "    </tr>\n",
       "    <tr>\n",
       "      <th>133</th>\n",
       "      <td>Ibadan</td>\n",
       "      <td>Nigeria</td>\n",
       "      <td>10.0</td>\n",
       "      <td>3649023.0</td>\n",
       "      <td>0.00</td>\n",
       "      <td>0.00</td>\n",
       "      <td>50.08</td>\n",
       "    </tr>\n",
       "    <tr>\n",
       "      <th>134</th>\n",
       "      <td>Lagos</td>\n",
       "      <td>Nigeria</td>\n",
       "      <td>0.0</td>\n",
       "      <td>14862111.0</td>\n",
       "      <td>0.00</td>\n",
       "      <td>0.00</td>\n",
       "      <td>65.36</td>\n",
       "    </tr>\n",
       "  </tbody>\n",
       "</table>\n",
       "<p>135 rows × 7 columns</p>\n",
       "</div>"
      ],
      "text/plain": [
       "         City       Country  # of CCTV Cameras  # of People  \\\n",
       "0     Taiyuan         China           465255.0    3975985.0   \n",
       "1        Wuxi         China           300000.0    3315113.0   \n",
       "2      London  England (UK)           691000.0    9425622.0   \n",
       "3      Indore         India           200600.0    3113445.0   \n",
       "4    Changsha         China           262000.0    4694722.0   \n",
       "..        ...           ...                ...          ...   \n",
       "130    Riyadh  Saudi Arabia              150.0    7387817.0   \n",
       "131    Abuja        Nigeria               40.0    3464123.0   \n",
       "132    Bekasi     Indonesia               29.0    3510050.0   \n",
       "133    Ibadan       Nigeria               10.0    3649023.0   \n",
       "134     Lagos       Nigeria                0.0   14862111.0   \n",
       "\n",
       "     # of CCTV Cameras per 1,000 People  Cameras per Square Mile  Crime Index  \n",
       "0                                117.02                   174.39        34.31  \n",
       "1                                 90.49                   472.66         7.84  \n",
       "2                                 73.31                  1138.48        53.07  \n",
       "3                                 64.43                   133.29        49.88  \n",
       "4                                 55.81                   353.85        21.38  \n",
       "..                                  ...                      ...          ...  \n",
       "130                                0.02                     0.22        26.99  \n",
       "131                                0.01                     0.01        59.57  \n",
       "132                                0.01                     0.35        35.85  \n",
       "133                                0.00                     0.00        50.08  \n",
       "134                                0.00                     0.00        65.36  \n",
       "\n",
       "[135 rows x 7 columns]"
      ]
     },
     "execution_count": 82,
     "metadata": {},
     "output_type": "execute_result"
    }
   ],
   "source": [
    "df = pd.read_csv(\"/home/viktor/Загрузки/which cities have the most CCTV cameras.csv\")\n",
    "df"
   ]
  },
  {
   "cell_type": "code",
   "execution_count": 83,
   "id": "3139d5b1",
   "metadata": {},
   "outputs": [
    {
     "data": {
      "text/plain": [
       "City                                   object\n",
       "Country                                object\n",
       "# of CCTV Cameras                     float64\n",
       "# of People                           float64\n",
       "# of CCTV Cameras per 1,000 People    float64\n",
       "Cameras per Square Mile               float64\n",
       "Crime Index                           float64\n",
       "dtype: object"
      ]
     },
     "execution_count": 83,
     "metadata": {},
     "output_type": "execute_result"
    }
   ],
   "source": [
    "df.dtypes"
   ]
  },
  {
   "cell_type": "code",
   "execution_count": 84,
   "id": "35cece30",
   "metadata": {},
   "outputs": [
    {
     "data": {
      "text/plain": [
       "(135, 7)"
      ]
     },
     "execution_count": 84,
     "metadata": {},
     "output_type": "execute_result"
    }
   ],
   "source": [
    "df.shape"
   ]
  },
  {
   "cell_type": "code",
   "execution_count": 85,
   "id": "8db6c42b",
   "metadata": {},
   "outputs": [
    {
     "data": {
      "text/html": [
       "<div>\n",
       "<style scoped>\n",
       "    .dataframe tbody tr th:only-of-type {\n",
       "        vertical-align: middle;\n",
       "    }\n",
       "\n",
       "    .dataframe tbody tr th {\n",
       "        vertical-align: top;\n",
       "    }\n",
       "\n",
       "    .dataframe thead th {\n",
       "        text-align: right;\n",
       "    }\n",
       "</style>\n",
       "<table border=\"1\" class=\"dataframe\">\n",
       "  <thead>\n",
       "    <tr style=\"text-align: right;\">\n",
       "      <th></th>\n",
       "      <th>City</th>\n",
       "      <th>Country</th>\n",
       "      <th># of CCTV Cameras</th>\n",
       "      <th># of People</th>\n",
       "      <th># of CCTV Cameras per 1,000 People</th>\n",
       "      <th>Cameras per Square Mile</th>\n",
       "      <th>Crime Index</th>\n",
       "    </tr>\n",
       "  </thead>\n",
       "  <tbody>\n",
       "    <tr>\n",
       "      <th>0</th>\n",
       "      <td>Taiyuan</td>\n",
       "      <td>China</td>\n",
       "      <td>465255.0</td>\n",
       "      <td>3975985.0</td>\n",
       "      <td>117.02</td>\n",
       "      <td>174.39</td>\n",
       "      <td>34.31</td>\n",
       "    </tr>\n",
       "    <tr>\n",
       "      <th>1</th>\n",
       "      <td>Wuxi</td>\n",
       "      <td>China</td>\n",
       "      <td>300000.0</td>\n",
       "      <td>3315113.0</td>\n",
       "      <td>90.49</td>\n",
       "      <td>472.66</td>\n",
       "      <td>7.84</td>\n",
       "    </tr>\n",
       "    <tr>\n",
       "      <th>2</th>\n",
       "      <td>London</td>\n",
       "      <td>England (UK)</td>\n",
       "      <td>691000.0</td>\n",
       "      <td>9425622.0</td>\n",
       "      <td>73.31</td>\n",
       "      <td>1138.48</td>\n",
       "      <td>53.07</td>\n",
       "    </tr>\n",
       "    <tr>\n",
       "      <th>3</th>\n",
       "      <td>Indore</td>\n",
       "      <td>India</td>\n",
       "      <td>200600.0</td>\n",
       "      <td>3113445.0</td>\n",
       "      <td>64.43</td>\n",
       "      <td>133.29</td>\n",
       "      <td>49.88</td>\n",
       "    </tr>\n",
       "    <tr>\n",
       "      <th>4</th>\n",
       "      <td>Changsha</td>\n",
       "      <td>China</td>\n",
       "      <td>262000.0</td>\n",
       "      <td>4694722.0</td>\n",
       "      <td>55.81</td>\n",
       "      <td>353.85</td>\n",
       "      <td>21.38</td>\n",
       "    </tr>\n",
       "    <tr>\n",
       "      <th>...</th>\n",
       "      <td>...</td>\n",
       "      <td>...</td>\n",
       "      <td>...</td>\n",
       "      <td>...</td>\n",
       "      <td>...</td>\n",
       "      <td>...</td>\n",
       "      <td>...</td>\n",
       "    </tr>\n",
       "    <tr>\n",
       "      <th>130</th>\n",
       "      <td>Riyadh</td>\n",
       "      <td>Saudi Arabia</td>\n",
       "      <td>150.0</td>\n",
       "      <td>7387817.0</td>\n",
       "      <td>0.02</td>\n",
       "      <td>0.22</td>\n",
       "      <td>26.99</td>\n",
       "    </tr>\n",
       "    <tr>\n",
       "      <th>131</th>\n",
       "      <td>Abuja</td>\n",
       "      <td>Nigeria</td>\n",
       "      <td>40.0</td>\n",
       "      <td>3464123.0</td>\n",
       "      <td>0.01</td>\n",
       "      <td>0.01</td>\n",
       "      <td>59.57</td>\n",
       "    </tr>\n",
       "    <tr>\n",
       "      <th>132</th>\n",
       "      <td>Bekasi</td>\n",
       "      <td>Indonesia</td>\n",
       "      <td>29.0</td>\n",
       "      <td>3510050.0</td>\n",
       "      <td>0.01</td>\n",
       "      <td>0.35</td>\n",
       "      <td>35.85</td>\n",
       "    </tr>\n",
       "    <tr>\n",
       "      <th>133</th>\n",
       "      <td>Ibadan</td>\n",
       "      <td>Nigeria</td>\n",
       "      <td>10.0</td>\n",
       "      <td>3649023.0</td>\n",
       "      <td>0.00</td>\n",
       "      <td>0.00</td>\n",
       "      <td>50.08</td>\n",
       "    </tr>\n",
       "    <tr>\n",
       "      <th>134</th>\n",
       "      <td>Lagos</td>\n",
       "      <td>Nigeria</td>\n",
       "      <td>0.0</td>\n",
       "      <td>14862111.0</td>\n",
       "      <td>0.00</td>\n",
       "      <td>0.00</td>\n",
       "      <td>65.36</td>\n",
       "    </tr>\n",
       "  </tbody>\n",
       "</table>\n",
       "<p>135 rows × 7 columns</p>\n",
       "</div>"
      ],
      "text/plain": [
       "         City       Country  # of CCTV Cameras  # of People  \\\n",
       "0     Taiyuan         China           465255.0    3975985.0   \n",
       "1        Wuxi         China           300000.0    3315113.0   \n",
       "2      London  England (UK)           691000.0    9425622.0   \n",
       "3      Indore         India           200600.0    3113445.0   \n",
       "4    Changsha         China           262000.0    4694722.0   \n",
       "..        ...           ...                ...          ...   \n",
       "130    Riyadh  Saudi Arabia              150.0    7387817.0   \n",
       "131    Abuja        Nigeria               40.0    3464123.0   \n",
       "132    Bekasi     Indonesia               29.0    3510050.0   \n",
       "133    Ibadan       Nigeria               10.0    3649023.0   \n",
       "134     Lagos       Nigeria                0.0   14862111.0   \n",
       "\n",
       "     # of CCTV Cameras per 1,000 People  Cameras per Square Mile  Crime Index  \n",
       "0                                117.02                   174.39        34.31  \n",
       "1                                 90.49                   472.66         7.84  \n",
       "2                                 73.31                  1138.48        53.07  \n",
       "3                                 64.43                   133.29        49.88  \n",
       "4                                 55.81                   353.85        21.38  \n",
       "..                                  ...                      ...          ...  \n",
       "130                                0.02                     0.22        26.99  \n",
       "131                                0.01                     0.01        59.57  \n",
       "132                                0.01                     0.35        35.85  \n",
       "133                                0.00                     0.00        50.08  \n",
       "134                                0.00                     0.00        65.36  \n",
       "\n",
       "[135 rows x 7 columns]"
      ]
     },
     "execution_count": 85,
     "metadata": {},
     "output_type": "execute_result"
    }
   ],
   "source": [
    "df.head(137)"
   ]
  },
  {
   "cell_type": "code",
   "execution_count": 86,
   "id": "695f4b93",
   "metadata": {},
   "outputs": [],
   "source": [
    "camera = ['# of CCTV Cameras']\n",
    "people = ['# of People']\n",
    "index = ['Crime Index']"
   ]
  },
  {
   "cell_type": "code",
   "execution_count": 87,
   "id": "794326a2",
   "metadata": {},
   "outputs": [],
   "source": [
    "X = df[camera]\n",
    "Y = df[people]\n",
    "Z = df[index]"
   ]
  },
  {
   "cell_type": "code",
   "execution_count": 88,
   "id": "a93192d0",
   "metadata": {},
   "outputs": [
    {
     "data": {
      "text/plain": [
       "1"
      ]
     },
     "execution_count": 88,
     "metadata": {},
     "output_type": "execute_result"
    }
   ],
   "source": [
    "X['# of CCTV Cameras'].isnull().sum()"
   ]
  },
  {
   "cell_type": "code",
   "execution_count": 89,
   "id": "d4b58ee0",
   "metadata": {},
   "outputs": [
    {
     "data": {
      "text/plain": [
       "1"
      ]
     },
     "execution_count": 89,
     "metadata": {},
     "output_type": "execute_result"
    }
   ],
   "source": [
    "Y['# of People'].isnull().sum()"
   ]
  },
  {
   "cell_type": "code",
   "execution_count": 90,
   "id": "8ada2662",
   "metadata": {},
   "outputs": [
    {
     "data": {
      "text/plain": [
       "6"
      ]
     },
     "execution_count": 90,
     "metadata": {},
     "output_type": "execute_result"
    }
   ],
   "source": [
    "Z['Crime Index'].isnull().sum()"
   ]
  },
  {
   "cell_type": "markdown",
   "id": "e21a7de6",
   "metadata": {},
   "source": [
    "### Заполняем пустые значения медианными значениями:"
   ]
  },
  {
   "cell_type": "code",
   "execution_count": 91,
   "id": "d0afbb70",
   "metadata": {},
   "outputs": [
    {
     "name": "stderr",
     "output_type": "stream",
     "text": [
      "<ipython-input-91-da67cef1f07b>:1: SettingWithCopyWarning: \n",
      "A value is trying to be set on a copy of a slice from a DataFrame.\n",
      "Try using .loc[row_indexer,col_indexer] = value instead\n",
      "\n",
      "See the caveats in the documentation: https://pandas.pydata.org/pandas-docs/stable/user_guide/indexing.html#returning-a-view-versus-a-copy\n",
      "  X['# of CCTV Cameras'] = X['# of CCTV Cameras'].fillna(X['# of CCTV Cameras'].median)\n"
     ]
    }
   ],
   "source": [
    "X['# of CCTV Cameras'] = X['# of CCTV Cameras'].fillna(X['# of CCTV Cameras'].median)"
   ]
  },
  {
   "cell_type": "code",
   "execution_count": 92,
   "id": "f12d38fb",
   "metadata": {},
   "outputs": [
    {
     "data": {
      "text/plain": [
       "0"
      ]
     },
     "execution_count": 92,
     "metadata": {},
     "output_type": "execute_result"
    }
   ],
   "source": [
    "X['# of CCTV Cameras'].isnull().sum()"
   ]
  },
  {
   "cell_type": "code",
   "execution_count": 93,
   "id": "98fd7c35",
   "metadata": {},
   "outputs": [
    {
     "name": "stderr",
     "output_type": "stream",
     "text": [
      "<ipython-input-93-5e8f76726d43>:1: SettingWithCopyWarning: \n",
      "A value is trying to be set on a copy of a slice from a DataFrame.\n",
      "Try using .loc[row_indexer,col_indexer] = value instead\n",
      "\n",
      "See the caveats in the documentation: https://pandas.pydata.org/pandas-docs/stable/user_guide/indexing.html#returning-a-view-versus-a-copy\n",
      "  Y['# of People'] = Y['# of People'].fillna(Y['# of People'].median)\n"
     ]
    }
   ],
   "source": [
    "Y['# of People'] = Y['# of People'].fillna(Y['# of People'].median)"
   ]
  },
  {
   "cell_type": "code",
   "execution_count": 94,
   "id": "5a797573",
   "metadata": {},
   "outputs": [
    {
     "data": {
      "text/plain": [
       "0"
      ]
     },
     "execution_count": 94,
     "metadata": {},
     "output_type": "execute_result"
    }
   ],
   "source": [
    "Y['# of People'].isnull().sum()"
   ]
  },
  {
   "cell_type": "code",
   "execution_count": 95,
   "id": "add5c777",
   "metadata": {},
   "outputs": [
    {
     "name": "stderr",
     "output_type": "stream",
     "text": [
      "<ipython-input-95-71682254fb8e>:1: SettingWithCopyWarning: \n",
      "A value is trying to be set on a copy of a slice from a DataFrame.\n",
      "Try using .loc[row_indexer,col_indexer] = value instead\n",
      "\n",
      "See the caveats in the documentation: https://pandas.pydata.org/pandas-docs/stable/user_guide/indexing.html#returning-a-view-versus-a-copy\n",
      "  Z['Crime Index'] = Z['Crime Index'].fillna(Z['Crime Index'].median)\n"
     ]
    }
   ],
   "source": [
    "Z['Crime Index'] = Z['Crime Index'].fillna(Z['Crime Index'].median)"
   ]
  },
  {
   "cell_type": "code",
   "execution_count": 96,
   "id": "aa1e7749",
   "metadata": {},
   "outputs": [
    {
     "data": {
      "text/plain": [
       "0"
      ]
     },
     "execution_count": 96,
     "metadata": {},
     "output_type": "execute_result"
    }
   ],
   "source": [
    "Z['Crime Index'].isnull().sum()"
   ]
  },
  {
   "cell_type": "code",
   "execution_count": 97,
   "id": "c8635c79",
   "metadata": {
    "scrolled": true
   },
   "outputs": [
    {
     "data": {
      "text/plain": [
       "(135, 1)"
      ]
     },
     "execution_count": 97,
     "metadata": {},
     "output_type": "execute_result"
    }
   ],
   "source": [
    "X.shape"
   ]
  },
  {
   "cell_type": "code",
   "execution_count": 98,
   "id": "a7126950",
   "metadata": {},
   "outputs": [
    {
     "data": {
      "text/plain": [
       "(135, 1)"
      ]
     },
     "execution_count": 98,
     "metadata": {},
     "output_type": "execute_result"
    }
   ],
   "source": [
    "Y.shape"
   ]
  },
  {
   "cell_type": "code",
   "execution_count": 99,
   "id": "5ad90e4f",
   "metadata": {},
   "outputs": [
    {
     "data": {
      "text/plain": [
       "(135, 1)"
      ]
     },
     "execution_count": 99,
     "metadata": {},
     "output_type": "execute_result"
    }
   ],
   "source": [
    "Z.shape"
   ]
  },
  {
   "cell_type": "code",
   "execution_count": 100,
   "id": "828cbf2d",
   "metadata": {},
   "outputs": [],
   "source": [
    "n1 = 135\n",
    "n2 = 135\n",
    "n3 = 135"
   ]
  },
  {
   "cell_type": "code",
   "execution_count": 101,
   "id": "018392ed",
   "metadata": {},
   "outputs": [
    {
     "data": {
      "text/plain": [
       "405"
      ]
     },
     "execution_count": 101,
     "metadata": {},
     "output_type": "execute_result"
    }
   ],
   "source": [
    "n = n1 + n2 + n3\n",
    "n"
   ]
  },
  {
   "cell_type": "code",
   "execution_count": 102,
   "id": "72fd9e75",
   "metadata": {},
   "outputs": [],
   "source": [
    "k = 3"
   ]
  },
  {
   "cell_type": "code",
   "execution_count": 103,
   "id": "e1e10e3a",
   "metadata": {},
   "outputs": [
    {
     "data": {
      "text/plain": [
       "[465255.0,\n",
       " 300000.0,\n",
       " 691000.0,\n",
       " 200600.0,\n",
       " 262000.0,\n",
       " 1150000.0,\n",
       " 400000.0,\n",
       " 262000.0,\n",
       " 200000.0,\n",
       " 150000.0,\n",
       " 250000.0,\n",
       " 375000.0,\n",
       " 270000.0,\n",
       " 1000000.0,\n",
       " 160000.0,\n",
       " 551500.0,\n",
       " 310000.0,\n",
       " 400000.0,\n",
       " 160000.0,\n",
       " 200000.0,\n",
       " 113795.0,\n",
       " 238000.0,\n",
       " 350000.0,\n",
       " 280000.0,\n",
       " 200000.0,\n",
       " 100000.0,\n",
       " 300000.0,\n",
       " 78260.0,\n",
       " 108981.0,\n",
       " 100000.0,\n",
       " 290000.0,\n",
       " 125145.0,\n",
       " 120000.0,\n",
       " 203600.0,\n",
       " 55144.0,\n",
       " 100000.0,\n",
       " 53430.0,\n",
       " 54000.0,\n",
       " 60000.0,\n",
       " 56300.0,\n",
       " 34959.0,\n",
       " 25200.0,\n",
       " 35000.0,\n",
       " 77564.0,\n",
       " 77885.0,\n",
       " 53971.0,\n",
       " 109000.0,\n",
       " 58190.0,\n",
       " 22289.0,\n",
       " 20000.0,\n",
       " 32000.0,\n",
       " 45000.0,\n",
       " 17440.0,\n",
       " 34000.0,\n",
       " 25672.0,\n",
       " 16800.0,\n",
       " 37813.0,\n",
       " 87000.0,\n",
       " 42539.0,\n",
       " 10847.0,\n",
       " 12800.0,\n",
       " 68988.0,\n",
       " 19276.0,\n",
       " 16470.0,\n",
       " 8304.0,\n",
       " 17320.0,\n",
       " 46552.0,\n",
       " 10995.0,\n",
       " 24743.0,\n",
       " 30000.0,\n",
       " 22316.0,\n",
       " 8330.0,\n",
       " 5598.0,\n",
       " 5000.0,\n",
       " 4510.0,\n",
       " 4000.0,\n",
       " 39504.0,\n",
       " 4402.0,\n",
       " 14000.0,\n",
       " 4291.0,\n",
       " 22175.0,\n",
       " 4400.0,\n",
       " 2833.0,\n",
       " 4000.0,\n",
       " 3726.0,\n",
       " 10000.0,\n",
       " 6281.0,\n",
       " 2850.0,\n",
       " 3033.0,\n",
       " 16000.0,\n",
       " 8013.0,\n",
       " 7881.0,\n",
       " 2585.0,\n",
       " 7547.0,\n",
       " 4010.0,\n",
       " 5000.0,\n",
       " 2430.0,\n",
       " 2503.0,\n",
       " 2765.0,\n",
       " 2995.0,\n",
       " 2080.0,\n",
       " 3000.0,\n",
       " 3180.0,\n",
       " 2000.0,\n",
       " 1369.0,\n",
       " 1500.0,\n",
       " 2145.0,\n",
       " 1000.0,\n",
       " 1400.0,\n",
       " 1000.0,\n",
       " 780.0,\n",
       " 2083.0,\n",
       " 3086.0,\n",
       " 1052.0,\n",
       " 668.0,\n",
       " 1076.0,\n",
       " 640.0,\n",
       " 1024.0,\n",
       " 582.0,\n",
       " 584.0,\n",
       " 528.0,\n",
       " 473.0,\n",
       " <bound method NDFrame._add_numeric_operations.<locals>.median of 0      465255.0\n",
       " 1      300000.0\n",
       " 2      691000.0\n",
       " 3      200600.0\n",
       " 4      262000.0\n",
       "          ...   \n",
       " 130       150.0\n",
       " 131        40.0\n",
       " 132        29.0\n",
       " 133        10.0\n",
       " 134         0.0\n",
       " Name: # of CCTV Cameras, Length: 135, dtype: float64>,\n",
       " 269.0,\n",
       " 700.0,\n",
       " 917.0,\n",
       " 140.0,\n",
       " 108.0,\n",
       " 122.0,\n",
       " 76.0,\n",
       " 150.0,\n",
       " 40.0,\n",
       " 29.0,\n",
       " 10.0,\n",
       " 0.0]"
      ]
     },
     "execution_count": 103,
     "metadata": {},
     "output_type": "execute_result"
    }
   ],
   "source": [
    "D_F1 = pd.DataFrame(X)\n",
    "X_L = D_F1['# of CCTV Cameras'].tolist()\n",
    "X_L"
   ]
  },
  {
   "cell_type": "code",
   "execution_count": 104,
   "id": "30b74e81",
   "metadata": {},
   "outputs": [
    {
     "data": {
      "text/plain": [
       "[3975985.0,\n",
       " 3315113.0,\n",
       " 9425622.0,\n",
       " 3113445.0,\n",
       " 4694722.0,\n",
       " 20896820.0,\n",
       " 7845501.0,\n",
       " 5742486.0,\n",
       " 4550831.0,\n",
       " 3790792.0,\n",
       " 6526439.0,\n",
       " 10268653.0,\n",
       " 7427096.0,\n",
       " 27795702.0,\n",
       " 4543684.0,\n",
       " 16349831.0,\n",
       " 9305116.0,\n",
       " 12591696.0,\n",
       " 5513597.0,\n",
       " 7373655.0,\n",
       " 4371005.0,\n",
       " 9143980.0,\n",
       " 13794450.0,\n",
       " 11235018.0,\n",
       " 8473405.0,\n",
       " 4520695.0,\n",
       " 13635397.0,\n",
       " 3709958.0,\n",
       " 5991801.0,\n",
       " 5510341.0,\n",
       " 16382376.0,\n",
       " 7451889.0,\n",
       " 7323079.0,\n",
       " 12593252.0,\n",
       " 3725342.0,\n",
       " 7406751.0,\n",
       " 3974322.0,\n",
       " 4199392.0,\n",
       " 4991654.0,\n",
       " 5504305.0,\n",
       " 3983540.0,\n",
       " 3153808.0,\n",
       " 4434905.0,\n",
       " 9967677.0,\n",
       " 10722815.0,\n",
       " 7598189.0,\n",
       " 15415197.0,\n",
       " 8230290.0,\n",
       " 3566791.0,\n",
       " 3407463.0,\n",
       " 5775938.0,\n",
       " 8274651.0,\n",
       " 3244710.0,\n",
       " 6668865.0,\n",
       " 5259296.0,\n",
       " 3764619.0,\n",
       " 8837544.0,\n",
       " 21918936.0,\n",
       " 11078546.0,\n",
       " 3153255.0,\n",
       " 3764559.0,\n",
       " 20667656.0,\n",
       " 6254571.0,\n",
       " 5926668.0,\n",
       " 3144473.0,\n",
       " 6807984.0,\n",
       " 21322750.0,\n",
       " 5061439.0,\n",
       " 15257673.0,\n",
       " 19110616.0,\n",
       " 14974073.0,\n",
       " 5624498.0,\n",
       " 4278350.0,\n",
       " 4103015.0,\n",
       " 3880314.0,\n",
       " 3562719.0,\n",
       " 37339804.0,\n",
       " 4247446.0,\n",
       " 13544462.0,\n",
       " 4263745.0,\n",
       " 22237472.0,\n",
       " 4874982.0,\n",
       " 3469510.0,\n",
       " 4955506.0,\n",
       " 4727902.0,\n",
       " 13095166.0,\n",
       " 8253226.0,\n",
       " 3793585.0,\n",
       " 4119633.0,\n",
       " 21741090.0,\n",
       " 10915364.0,\n",
       " 11167392.0,\n",
       " 3726050.0,\n",
       " 10882757.0,\n",
       " 5989024.0,\n",
       " 8210745.0,\n",
       " 4033783.0,\n",
       " 4160682.0,\n",
       " 4709990.0,\n",
       " 5421806.0,\n",
       " 4174774.0,\n",
       " 6811595.0,\n",
       " 7489742.0,\n",
       " 4922192.0,\n",
       " 3388809.0,\n",
       " 3969937.0,\n",
       " 6139774.0,\n",
       " 3531887.0,\n",
       " 5215747.0,\n",
       " 4007505.0,\n",
       " 3465946.0,\n",
       " 9259009.0,\n",
       " 14158573.0,\n",
       " 5132751.0,\n",
       " 3394309.0,\n",
       " 5516158.0,\n",
       " 3343816.0,\n",
       " 5354826.0,\n",
       " 3193029.0,\n",
       " 3264101.0,\n",
       " 3176254.0,\n",
       " 3229800.0,\n",
       " <bound method NDFrame._add_numeric_operations.<locals>.median of 0       3975985.0\n",
       " 1       3315113.0\n",
       " 2       9425622.0\n",
       " 3       3113445.0\n",
       " 4       4694722.0\n",
       "           ...    \n",
       " 130     7387817.0\n",
       " 131     3464123.0\n",
       " 132     3510050.0\n",
       " 133     3649023.0\n",
       " 134    14862111.0\n",
       " Name: # of People, Length: 135, dtype: float64>,\n",
       " 3212604.0,\n",
       " 8631876.0,\n",
       " 12764935.0,\n",
       " 5005524.0,\n",
       " 4335770.0,\n",
       " 5381101.0,\n",
       " 3742198.0,\n",
       " 7387817.0,\n",
       " 3464123.0,\n",
       " 3510050.0,\n",
       " 3649023.0,\n",
       " 14862111.0]"
      ]
     },
     "execution_count": 104,
     "metadata": {},
     "output_type": "execute_result"
    }
   ],
   "source": [
    "D_F2 = pd.DataFrame(Y)\n",
    "Y_L = D_F2['# of People'].tolist()\n",
    "Y_L"
   ]
  },
  {
   "cell_type": "code",
   "execution_count": 105,
   "id": "6f29e65b",
   "metadata": {},
   "outputs": [
    {
     "data": {
      "text/plain": [
       "[34.31,\n",
       " 7.84,\n",
       " 53.07,\n",
       " 49.88,\n",
       " 21.38,\n",
       " 34.45,\n",
       " 19.78,\n",
       " 8.59,\n",
       " 25.96,\n",
       " 25.51,\n",
       " 23.66,\n",
       " 43.78,\n",
       " 13.0,\n",
       " 34.79,\n",
       " 19.85,\n",
       " 59.54,\n",
       " 23.55,\n",
       " 32.79,\n",
       " 14.13,\n",
       " 22.18,\n",
       " 12.35,\n",
       " 13.18,\n",
       " 30.55,\n",
       " 40.87,\n",
       " 23.65,\n",
       " 27.53,\n",
       " 39.95,\n",
       " 26.47,\n",
       " 33.86,\n",
       " 19.71,\n",
       " 27.73,\n",
       " 43.33,\n",
       " 63.38,\n",
       " 38.55,\n",
       " 22.79,\n",
       " 37.35,\n",
       " 22.3,\n",
       " <bound method NDFrame._add_numeric_operations.<locals>.median of 0      34.31\n",
       " 1       7.84\n",
       " 2      53.07\n",
       " 3      49.88\n",
       " 4      21.38\n",
       "        ...  \n",
       " 130    26.99\n",
       " 131    59.57\n",
       " 132    35.85\n",
       " 133    50.08\n",
       " 134    65.36\n",
       " Name: Crime Index, Length: 135, dtype: float64>,\n",
       " 33.58,\n",
       " 39.16,\n",
       " 48.84,\n",
       " <bound method NDFrame._add_numeric_operations.<locals>.median of 0      34.31\n",
       " 1       7.84\n",
       " 2      53.07\n",
       " 3      49.88\n",
       " 4      21.38\n",
       "        ...  \n",
       " 130    26.99\n",
       " 131    59.57\n",
       " 132    35.85\n",
       " 133    50.08\n",
       " 134    65.36\n",
       " Name: Crime Index, Length: 135, dtype: float64>,\n",
       " 22.34,\n",
       " 26.34,\n",
       " 41.23,\n",
       " 22.22,\n",
       " 47.5,\n",
       " 47.01,\n",
       " 41.49,\n",
       " <bound method NDFrame._add_numeric_operations.<locals>.median of 0      34.31\n",
       " 1       7.84\n",
       " 2      53.07\n",
       " 3      49.88\n",
       " 4      21.38\n",
       "        ...  \n",
       " 130    26.99\n",
       " 131    59.57\n",
       " 132    35.85\n",
       " 133    50.08\n",
       " 134    65.36\n",
       " Name: Crime Index, Length: 135, dtype: float64>,\n",
       " 16.92,\n",
       " 16.85,\n",
       " 63.04,\n",
       " 29.94,\n",
       " 61.83,\n",
       " 50.2,\n",
       " 54.11,\n",
       " 69.3,\n",
       " 54.49,\n",
       " 53.67,\n",
       " 28.58,\n",
       " 43.15,\n",
       " 40.48,\n",
       " 80.55,\n",
       " 44.14,\n",
       " 42.12,\n",
       " 49.97,\n",
       " 44.32,\n",
       " 62.98,\n",
       " 30.33,\n",
       " 47.55,\n",
       " 46.01,\n",
       " 52.31,\n",
       " 50.59,\n",
       " 75.93,\n",
       " <bound method NDFrame._add_numeric_operations.<locals>.median of 0      34.31\n",
       " 1       7.84\n",
       " 2      53.07\n",
       " 3      49.88\n",
       " 4      21.38\n",
       "        ...  \n",
       " 130    26.99\n",
       " 131    59.57\n",
       " 132    35.85\n",
       " 133    50.08\n",
       " 134    65.36\n",
       " Name: Crime Index, Length: 135, dtype: float64>,\n",
       " 23.12,\n",
       " 29.37,\n",
       " 77.57,\n",
       " 26.35,\n",
       " 70.3,\n",
       " 37.65,\n",
       " 54.42,\n",
       " 48.94,\n",
       " 61.29,\n",
       " 39.3,\n",
       " 33.37,\n",
       " 55.46,\n",
       " 78.12,\n",
       " 65.12,\n",
       " 53.59,\n",
       " 63.71,\n",
       " 62.61,\n",
       " 69.98,\n",
       " 33.81,\n",
       " 64.64,\n",
       " 51.29,\n",
       " 74.66,\n",
       " 73.7,\n",
       " 46.61,\n",
       " 76.46,\n",
       " 56.1,\n",
       " 35.45,\n",
       " 60.57,\n",
       " 67.58,\n",
       " <bound method NDFrame._add_numeric_operations.<locals>.median of 0      34.31\n",
       " 1       7.84\n",
       " 2      53.07\n",
       " 3      49.88\n",
       " 4      21.38\n",
       "        ...  \n",
       " 130    26.99\n",
       " 131    59.57\n",
       " 132    35.85\n",
       " 133    50.08\n",
       " 134    65.36\n",
       " Name: Crime Index, Length: 135, dtype: float64>,\n",
       " 63.89,\n",
       " 61.19,\n",
       " 40.01,\n",
       " 36.1,\n",
       " 24.41,\n",
       " 54.66,\n",
       " 64.69,\n",
       " 62.63,\n",
       " 49.0,\n",
       " 17.99,\n",
       " 66.2,\n",
       " 55.12,\n",
       " 41.12,\n",
       " 46.77,\n",
       " 80.57,\n",
       " 37.5,\n",
       " <bound method NDFrame._add_numeric_operations.<locals>.median of 0      34.31\n",
       " 1       7.84\n",
       " 2      53.07\n",
       " 3      49.88\n",
       " 4      21.38\n",
       "        ...  \n",
       " 130    26.99\n",
       " 131    59.57\n",
       " 132    35.85\n",
       " 133    50.08\n",
       " 134    65.36\n",
       " Name: Crime Index, Length: 135, dtype: float64>,\n",
       " 21.98,\n",
       " 67.52,\n",
       " 54.42,\n",
       " 47.66,\n",
       " 76.07,\n",
       " 38.71,\n",
       " 45.3,\n",
       " 26.99,\n",
       " 59.57,\n",
       " 35.85,\n",
       " 50.08,\n",
       " 65.36]"
      ]
     },
     "execution_count": 105,
     "metadata": {},
     "output_type": "execute_result"
    }
   ],
   "source": [
    "D_F3 = pd.DataFrame(Z)\n",
    "Z_L = D_F3['Crime Index'].tolist()\n",
    "Z_L"
   ]
  },
  {
   "cell_type": "markdown",
   "id": "effbee4c",
   "metadata": {},
   "source": [
    "###  Исключим все объекты оставив только числа и проведем однофакторный дисперсионный анализ:"
   ]
  },
  {
   "cell_type": "code",
   "execution_count": 106,
   "id": "5debaf84",
   "metadata": {},
   "outputs": [
    {
     "name": "stdout",
     "output_type": "stream",
     "text": [
      "Not float: 122 <class 'method'>\n"
     ]
    }
   ],
   "source": [
    "index = 0\n",
    "for it in X_L:\n",
    "    if not isinstance(it, float):\n",
    "        print(f\"Not float: {index}\", it.__class__)\n",
    "    index += 1"
   ]
  },
  {
   "cell_type": "code",
   "execution_count": 107,
   "id": "a332f4e2",
   "metadata": {},
   "outputs": [
    {
     "data": {
      "text/plain": [
       "[465255.0,\n",
       " 300000.0,\n",
       " 691000.0,\n",
       " 200600.0,\n",
       " 262000.0,\n",
       " 1150000.0,\n",
       " 400000.0,\n",
       " 262000.0,\n",
       " 200000.0,\n",
       " 150000.0,\n",
       " 250000.0,\n",
       " 375000.0,\n",
       " 270000.0,\n",
       " 1000000.0,\n",
       " 160000.0,\n",
       " 551500.0,\n",
       " 310000.0,\n",
       " 400000.0,\n",
       " 160000.0,\n",
       " 200000.0,\n",
       " 113795.0,\n",
       " 238000.0,\n",
       " 350000.0,\n",
       " 280000.0,\n",
       " 200000.0,\n",
       " 100000.0,\n",
       " 300000.0,\n",
       " 78260.0,\n",
       " 108981.0,\n",
       " 100000.0,\n",
       " 290000.0,\n",
       " 125145.0,\n",
       " 120000.0,\n",
       " 203600.0,\n",
       " 55144.0,\n",
       " 100000.0,\n",
       " 53430.0,\n",
       " 54000.0,\n",
       " 60000.0,\n",
       " 56300.0,\n",
       " 34959.0,\n",
       " 25200.0,\n",
       " 35000.0,\n",
       " 77564.0,\n",
       " 77885.0,\n",
       " 53971.0,\n",
       " 109000.0,\n",
       " 58190.0,\n",
       " 22289.0,\n",
       " 20000.0,\n",
       " 32000.0,\n",
       " 45000.0,\n",
       " 17440.0,\n",
       " 34000.0,\n",
       " 25672.0,\n",
       " 16800.0,\n",
       " 37813.0,\n",
       " 87000.0,\n",
       " 42539.0,\n",
       " 10847.0,\n",
       " 12800.0,\n",
       " 68988.0,\n",
       " 19276.0,\n",
       " 16470.0,\n",
       " 8304.0,\n",
       " 17320.0,\n",
       " 46552.0,\n",
       " 10995.0,\n",
       " 24743.0,\n",
       " 30000.0,\n",
       " 22316.0,\n",
       " 8330.0,\n",
       " 5598.0,\n",
       " 5000.0,\n",
       " 4510.0,\n",
       " 4000.0,\n",
       " 39504.0,\n",
       " 4402.0,\n",
       " 14000.0,\n",
       " 4291.0,\n",
       " 22175.0,\n",
       " 4400.0,\n",
       " 2833.0,\n",
       " 4000.0,\n",
       " 3726.0,\n",
       " 10000.0,\n",
       " 6281.0,\n",
       " 2850.0,\n",
       " 3033.0,\n",
       " 16000.0,\n",
       " 8013.0,\n",
       " 7881.0,\n",
       " 2585.0,\n",
       " 7547.0,\n",
       " 4010.0,\n",
       " 5000.0,\n",
       " 2430.0,\n",
       " 2503.0,\n",
       " 2765.0,\n",
       " 2995.0,\n",
       " 2080.0,\n",
       " 3000.0,\n",
       " 3180.0,\n",
       " 2000.0,\n",
       " 1369.0,\n",
       " 1500.0,\n",
       " 2145.0,\n",
       " 1000.0,\n",
       " 1400.0,\n",
       " 1000.0,\n",
       " 780.0,\n",
       " 2083.0,\n",
       " 3086.0,\n",
       " 1052.0,\n",
       " 668.0,\n",
       " 1076.0,\n",
       " 640.0,\n",
       " 1024.0,\n",
       " 582.0,\n",
       " 584.0,\n",
       " 528.0,\n",
       " 473.0,\n",
       " 269.0,\n",
       " 700.0,\n",
       " 917.0,\n",
       " 140.0,\n",
       " 108.0,\n",
       " 122.0,\n",
       " 76.0,\n",
       " 150.0,\n",
       " 40.0,\n",
       " 29.0,\n",
       " 10.0,\n",
       " 0.0]"
      ]
     },
     "execution_count": 107,
     "metadata": {},
     "output_type": "execute_result"
    }
   ],
   "source": [
    "X_L_filtered = list(filter(lambda it: isinstance(it, float), X_L))\n",
    "X_L_filtered"
   ]
  },
  {
   "cell_type": "code",
   "execution_count": 108,
   "id": "d52aaec3",
   "metadata": {},
   "outputs": [
    {
     "data": {
      "text/plain": [
       "90518.02985074627"
      ]
     },
     "execution_count": 108,
     "metadata": {},
     "output_type": "execute_result"
    }
   ],
   "source": [
    "X_mean = np.mean(X_L_filtered)\n",
    "X_mean"
   ]
  },
  {
   "cell_type": "code",
   "execution_count": 109,
   "id": "0e1015d8",
   "metadata": {},
   "outputs": [
    {
     "name": "stdout",
     "output_type": "stream",
     "text": [
      "Not float: 122 <class 'method'>\n"
     ]
    }
   ],
   "source": [
    "index = 0\n",
    "for it in Y_L:\n",
    "    if not isinstance(it, float):\n",
    "        print(f\"Not float: {index}\", it.__class__)\n",
    "    index += 1"
   ]
  },
  {
   "cell_type": "code",
   "execution_count": 110,
   "id": "b2d3eed4",
   "metadata": {},
   "outputs": [],
   "source": [
    "Y_L_filtered = list(filter(lambda it: isinstance(it, float), Y_L))"
   ]
  },
  {
   "cell_type": "code",
   "execution_count": 111,
   "id": "68d22f1a",
   "metadata": {},
   "outputs": [
    {
     "data": {
      "text/plain": [
       "7680241.634328358"
      ]
     },
     "execution_count": 111,
     "metadata": {},
     "output_type": "execute_result"
    }
   ],
   "source": [
    "Y_mean = np.mean(Y_L_filtered)\n",
    "Y_mean"
   ]
  },
  {
   "cell_type": "code",
   "execution_count": 112,
   "id": "2d27face",
   "metadata": {},
   "outputs": [
    {
     "name": "stdout",
     "output_type": "stream",
     "text": [
      "Not float: 37 <class 'method'>\n",
      "Not float: 41 <class 'method'>\n",
      "Not float: 49 <class 'method'>\n",
      "Not float: 75 <class 'method'>\n",
      "Not float: 105 <class 'method'>\n",
      "Not float: 122 <class 'method'>\n"
     ]
    }
   ],
   "source": [
    "index = 0\n",
    "for it in Z_L:\n",
    "    if not isinstance(it, float):\n",
    "        print(f\"Not float: {index}\", it.__class__)\n",
    "    index += 1"
   ]
  },
  {
   "cell_type": "code",
   "execution_count": 113,
   "id": "49f1d7d1",
   "metadata": {},
   "outputs": [],
   "source": [
    "Z_L_filtered = list(filter(lambda it: isinstance(it, float), Z_L))"
   ]
  },
  {
   "cell_type": "code",
   "execution_count": 114,
   "id": "2d1d028e",
   "metadata": {},
   "outputs": [
    {
     "data": {
      "text/plain": [
       "43.82294573643411"
      ]
     },
     "execution_count": 114,
     "metadata": {},
     "output_type": "execute_result"
    }
   ],
   "source": [
    "Z_mean = np.mean(Z_L_filtered)\n",
    "Z_mean"
   ]
  },
  {
   "cell_type": "markdown",
   "id": "dbd9433a",
   "metadata": {},
   "source": [
    "### Занесем все значения в один массив:"
   ]
  },
  {
   "cell_type": "code",
   "execution_count": 118,
   "id": "b87172e1",
   "metadata": {},
   "outputs": [
    {
     "data": {
      "text/plain": [
       "array([4.6525500e+05, 3.0000000e+05, 6.9100000e+05, 2.0060000e+05,\n",
       "       2.6200000e+05, 1.1500000e+06, 4.0000000e+05, 2.6200000e+05,\n",
       "       2.0000000e+05, 1.5000000e+05, 2.5000000e+05, 3.7500000e+05,\n",
       "       2.7000000e+05, 1.0000000e+06, 1.6000000e+05, 5.5150000e+05,\n",
       "       3.1000000e+05, 4.0000000e+05, 1.6000000e+05, 2.0000000e+05,\n",
       "       1.1379500e+05, 2.3800000e+05, 3.5000000e+05, 2.8000000e+05,\n",
       "       2.0000000e+05, 1.0000000e+05, 3.0000000e+05, 7.8260000e+04,\n",
       "       1.0898100e+05, 1.0000000e+05, 2.9000000e+05, 1.2514500e+05,\n",
       "       1.2000000e+05, 2.0360000e+05, 5.5144000e+04, 1.0000000e+05,\n",
       "       5.3430000e+04, 5.4000000e+04, 6.0000000e+04, 5.6300000e+04,\n",
       "       3.4959000e+04, 2.5200000e+04, 3.5000000e+04, 7.7564000e+04,\n",
       "       7.7885000e+04, 5.3971000e+04, 1.0900000e+05, 5.8190000e+04,\n",
       "       2.2289000e+04, 2.0000000e+04, 3.2000000e+04, 4.5000000e+04,\n",
       "       1.7440000e+04, 3.4000000e+04, 2.5672000e+04, 1.6800000e+04,\n",
       "       3.7813000e+04, 8.7000000e+04, 4.2539000e+04, 1.0847000e+04,\n",
       "       1.2800000e+04, 6.8988000e+04, 1.9276000e+04, 1.6470000e+04,\n",
       "       8.3040000e+03, 1.7320000e+04, 4.6552000e+04, 1.0995000e+04,\n",
       "       2.4743000e+04, 3.0000000e+04, 2.2316000e+04, 8.3300000e+03,\n",
       "       5.5980000e+03, 5.0000000e+03, 4.5100000e+03, 4.0000000e+03,\n",
       "       3.9504000e+04, 4.4020000e+03, 1.4000000e+04, 4.2910000e+03,\n",
       "       2.2175000e+04, 4.4000000e+03, 2.8330000e+03, 4.0000000e+03,\n",
       "       3.7260000e+03, 1.0000000e+04, 6.2810000e+03, 2.8500000e+03,\n",
       "       3.0330000e+03, 1.6000000e+04, 8.0130000e+03, 7.8810000e+03,\n",
       "       2.5850000e+03, 7.5470000e+03, 4.0100000e+03, 5.0000000e+03,\n",
       "       2.4300000e+03, 2.5030000e+03, 2.7650000e+03, 2.9950000e+03,\n",
       "       2.0800000e+03, 3.0000000e+03, 3.1800000e+03, 2.0000000e+03,\n",
       "       1.3690000e+03, 1.5000000e+03, 2.1450000e+03, 1.0000000e+03,\n",
       "       1.4000000e+03, 1.0000000e+03, 7.8000000e+02, 2.0830000e+03,\n",
       "       3.0860000e+03, 1.0520000e+03, 6.6800000e+02, 1.0760000e+03,\n",
       "       6.4000000e+02, 1.0240000e+03, 5.8200000e+02, 5.8400000e+02,\n",
       "       5.2800000e+02, 4.7300000e+02, 2.6900000e+02, 7.0000000e+02,\n",
       "       9.1700000e+02, 1.4000000e+02, 1.0800000e+02, 1.2200000e+02,\n",
       "       7.6000000e+01, 1.5000000e+02, 4.0000000e+01, 2.9000000e+01,\n",
       "       1.0000000e+01, 0.0000000e+00, 3.9759850e+06, 3.3151130e+06,\n",
       "       9.4256220e+06, 3.1134450e+06, 4.6947220e+06, 2.0896820e+07,\n",
       "       7.8455010e+06, 5.7424860e+06, 4.5508310e+06, 3.7907920e+06,\n",
       "       6.5264390e+06, 1.0268653e+07, 7.4270960e+06, 2.7795702e+07,\n",
       "       4.5436840e+06, 1.6349831e+07, 9.3051160e+06, 1.2591696e+07,\n",
       "       5.5135970e+06, 7.3736550e+06, 4.3710050e+06, 9.1439800e+06,\n",
       "       1.3794450e+07, 1.1235018e+07, 8.4734050e+06, 4.5206950e+06,\n",
       "       1.3635397e+07, 3.7099580e+06, 5.9918010e+06, 5.5103410e+06,\n",
       "       1.6382376e+07, 7.4518890e+06, 7.3230790e+06, 1.2593252e+07,\n",
       "       3.7253420e+06, 7.4067510e+06, 3.9743220e+06, 4.1993920e+06,\n",
       "       4.9916540e+06, 5.5043050e+06, 3.9835400e+06, 3.1538080e+06,\n",
       "       4.4349050e+06, 9.9676770e+06, 1.0722815e+07, 7.5981890e+06,\n",
       "       1.5415197e+07, 8.2302900e+06, 3.5667910e+06, 3.4074630e+06,\n",
       "       5.7759380e+06, 8.2746510e+06, 3.2447100e+06, 6.6688650e+06,\n",
       "       5.2592960e+06, 3.7646190e+06, 8.8375440e+06, 2.1918936e+07,\n",
       "       1.1078546e+07, 3.1532550e+06, 3.7645590e+06, 2.0667656e+07,\n",
       "       6.2545710e+06, 5.9266680e+06, 3.1444730e+06, 6.8079840e+06,\n",
       "       2.1322750e+07, 5.0614390e+06, 1.5257673e+07, 1.9110616e+07,\n",
       "       1.4974073e+07, 5.6244980e+06, 4.2783500e+06, 4.1030150e+06,\n",
       "       3.8803140e+06, 3.5627190e+06, 3.7339804e+07, 4.2474460e+06,\n",
       "       1.3544462e+07, 4.2637450e+06, 2.2237472e+07, 4.8749820e+06,\n",
       "       3.4695100e+06, 4.9555060e+06, 4.7279020e+06, 1.3095166e+07,\n",
       "       8.2532260e+06, 3.7935850e+06, 4.1196330e+06, 2.1741090e+07,\n",
       "       1.0915364e+07, 1.1167392e+07, 3.7260500e+06, 1.0882757e+07,\n",
       "       5.9890240e+06, 8.2107450e+06, 4.0337830e+06, 4.1606820e+06,\n",
       "       4.7099900e+06, 5.4218060e+06, 4.1747740e+06, 6.8115950e+06,\n",
       "       7.4897420e+06, 4.9221920e+06, 3.3888090e+06, 3.9699370e+06,\n",
       "       6.1397740e+06, 3.5318870e+06, 5.2157470e+06, 4.0075050e+06,\n",
       "       3.4659460e+06, 9.2590090e+06, 1.4158573e+07, 5.1327510e+06,\n",
       "       3.3943090e+06, 5.5161580e+06, 3.3438160e+06, 5.3548260e+06,\n",
       "       3.1930290e+06, 3.2641010e+06, 3.1762540e+06, 3.2298000e+06,\n",
       "       3.2126040e+06, 8.6318760e+06, 1.2764935e+07, 5.0055240e+06,\n",
       "       4.3357700e+06, 5.3811010e+06, 3.7421980e+06, 7.3878170e+06,\n",
       "       3.4641230e+06, 3.5100500e+06, 3.6490230e+06, 1.4862111e+07,\n",
       "       3.4310000e+01, 7.8400000e+00, 5.3070000e+01, 4.9880000e+01,\n",
       "       2.1380000e+01, 3.4450000e+01, 1.9780000e+01, 8.5900000e+00,\n",
       "       2.5960000e+01, 2.5510000e+01, 2.3660000e+01, 4.3780000e+01,\n",
       "       1.3000000e+01, 3.4790000e+01, 1.9850000e+01, 5.9540000e+01,\n",
       "       2.3550000e+01, 3.2790000e+01, 1.4130000e+01, 2.2180000e+01,\n",
       "       1.2350000e+01, 1.3180000e+01, 3.0550000e+01, 4.0870000e+01,\n",
       "       2.3650000e+01, 2.7530000e+01, 3.9950000e+01, 2.6470000e+01,\n",
       "       3.3860000e+01, 1.9710000e+01, 2.7730000e+01, 4.3330000e+01,\n",
       "       6.3380000e+01, 3.8550000e+01, 2.2790000e+01, 3.7350000e+01,\n",
       "       2.2300000e+01, 3.3580000e+01, 3.9160000e+01, 4.8840000e+01,\n",
       "       2.2340000e+01, 2.6340000e+01, 4.1230000e+01, 2.2220000e+01,\n",
       "       4.7500000e+01, 4.7010000e+01, 4.1490000e+01, 1.6920000e+01,\n",
       "       1.6850000e+01, 6.3040000e+01, 2.9940000e+01, 6.1830000e+01,\n",
       "       5.0200000e+01, 5.4110000e+01, 6.9300000e+01, 5.4490000e+01,\n",
       "       5.3670000e+01, 2.8580000e+01, 4.3150000e+01, 4.0480000e+01,\n",
       "       8.0550000e+01, 4.4140000e+01, 4.2120000e+01, 4.9970000e+01,\n",
       "       4.4320000e+01, 6.2980000e+01, 3.0330000e+01, 4.7550000e+01,\n",
       "       4.6010000e+01, 5.2310000e+01, 5.0590000e+01, 7.5930000e+01,\n",
       "       2.3120000e+01, 2.9370000e+01, 7.7570000e+01, 2.6350000e+01,\n",
       "       7.0300000e+01, 3.7650000e+01, 5.4420000e+01, 4.8940000e+01,\n",
       "       6.1290000e+01, 3.9300000e+01, 3.3370000e+01, 5.5460000e+01,\n",
       "       7.8120000e+01, 6.5120000e+01, 5.3590000e+01, 6.3710000e+01,\n",
       "       6.2610000e+01, 6.9980000e+01, 3.3810000e+01, 6.4640000e+01,\n",
       "       5.1290000e+01, 7.4660000e+01, 7.3700000e+01, 4.6610000e+01,\n",
       "       7.6460000e+01, 5.6100000e+01, 3.5450000e+01, 6.0570000e+01,\n",
       "       6.7580000e+01, 6.3890000e+01, 6.1190000e+01, 4.0010000e+01,\n",
       "       3.6100000e+01, 2.4410000e+01, 5.4660000e+01, 6.4690000e+01,\n",
       "       6.2630000e+01, 4.9000000e+01, 1.7990000e+01, 6.6200000e+01,\n",
       "       5.5120000e+01, 4.1120000e+01, 4.6770000e+01, 8.0570000e+01,\n",
       "       3.7500000e+01, 2.1980000e+01, 6.7520000e+01, 5.4420000e+01,\n",
       "       4.7660000e+01, 7.6070000e+01, 3.8710000e+01, 4.5300000e+01,\n",
       "       2.6990000e+01, 5.9570000e+01, 3.5850000e+01, 5.0080000e+01,\n",
       "       6.5360000e+01])"
      ]
     },
     "execution_count": 118,
     "metadata": {},
     "output_type": "execute_result"
    }
   ],
   "source": [
    "XYZ_all = np.concatenate([X_L_filtered,Y_L_filtered,Z_L_filtered])\n",
    "XYZ_all"
   ]
  },
  {
   "cell_type": "code",
   "execution_count": 119,
   "id": "58f02d7f",
   "metadata": {},
   "outputs": [
    {
     "data": {
      "text/plain": [
       "2622890.2976322416"
      ]
     },
     "execution_count": 119,
     "metadata": {},
     "output_type": "execute_result"
    }
   ],
   "source": [
    "XYZ_mean = np.mean(XYZ_all)\n",
    "XYZ_mean"
   ]
  },
  {
   "cell_type": "markdown",
   "id": "0fffe463",
   "metadata": {},
   "source": [
    "### Находим сумму квадратов:"
   ]
  },
  {
   "cell_type": "code",
   "execution_count": 120,
   "id": "2d5f6a53",
   "metadata": {},
   "outputs": [
    {
     "data": {
      "text/plain": [
       "9417826209854872.0"
      ]
     },
     "execution_count": 120,
     "metadata": {},
     "output_type": "execute_result"
    }
   ],
   "source": [
    "S_2 = np.sum((XYZ_all - XYZ_mean)**2)\n",
    "S_2"
   ]
  },
  {
   "cell_type": "code",
   "execution_count": 121,
   "id": "e44a21ed",
   "metadata": {},
   "outputs": [
    {
     "data": {
      "text/plain": [
       "5247319789150139.0"
      ]
     },
     "execution_count": 121,
     "metadata": {},
     "output_type": "execute_result"
    }
   ],
   "source": [
    "S_2f = ((X_mean - XYZ_mean)**2)*n1 + ((Y_mean - XYZ_mean)**2)*n2 + ((Z_mean - XYZ_mean)**2)*n3\n",
    "S_2f"
   ]
  },
  {
   "cell_type": "markdown",
   "id": "0e7f7aac",
   "metadata": {},
   "source": [
    "### Находим общую дисперсию:"
   ]
  },
  {
   "cell_type": "code",
   "execution_count": 122,
   "id": "d12fa1b1",
   "metadata": {},
   "outputs": [
    {
     "data": {
      "text/plain": [
       "23311451014492.258"
      ]
     },
     "execution_count": 122,
     "metadata": {},
     "output_type": "execute_result"
    }
   ],
   "source": [
    "sigma2_general = S_2 / (n-1)\n",
    "sigma2_general"
   ]
  },
  {
   "cell_type": "markdown",
   "id": "9653f784",
   "metadata": {},
   "source": [
    "### Находим факторную дисперсию:"
   ]
  },
  {
   "cell_type": "code",
   "execution_count": 123,
   "id": "57a13f01",
   "metadata": {},
   "outputs": [
    {
     "data": {
      "text/plain": [
       "2623659894575069.5"
      ]
     },
     "execution_count": 123,
     "metadata": {},
     "output_type": "execute_result"
    }
   ],
   "source": [
    "sigma2_f = S_2f / (k-1)\n",
    "sigma2_f"
   ]
  },
  {
   "cell_type": "code",
   "execution_count": null,
   "id": "ec8b934a",
   "metadata": {},
   "outputs": [],
   "source": []
  },
  {
   "cell_type": "code",
   "execution_count": 126,
   "id": "198001dd",
   "metadata": {},
   "outputs": [
    {
     "data": {
      "text/plain": [
       "3.0647606768696796"
      ]
     },
     "execution_count": 126,
     "metadata": {},
     "output_type": "execute_result"
    }
   ],
   "source": [
    "St = stats.f.ppf(0.95,2,132)\n",
    "St"
   ]
  },
  {
   "cell_type": "code",
   "execution_count": 127,
   "id": "39794945",
   "metadata": {},
   "outputs": [
    {
     "data": {
      "text/plain": [
       "F_onewayResult(statistic=240.18459211428106, pvalue=6.293200848973555e-69)"
      ]
     },
     "execution_count": 127,
     "metadata": {},
     "output_type": "execute_result"
    }
   ],
   "source": [
    "St = stats.f_oneway(X_L_filtered,Y_L_filtered,Z_L_filtered)\n",
    "St"
   ]
  },
  {
   "cell_type": "markdown",
   "id": "54cf7831",
   "metadata": {},
   "source": []
  },
  {
   "cell_type": "code",
   "execution_count": null,
   "id": "578e4552",
   "metadata": {},
   "outputs": [],
   "source": []
  }
 ],
 "metadata": {
  "kernelspec": {
   "display_name": "Python 3",
   "language": "python",
   "name": "python3"
  },
  "language_info": {
   "codemirror_mode": {
    "name": "ipython",
    "version": 3
   },
   "file_extension": ".py",
   "mimetype": "text/x-python",
   "name": "python",
   "nbconvert_exporter": "python",
   "pygments_lexer": "ipython3",
   "version": "3.8.10"
  }
 },
 "nbformat": 4,
 "nbformat_minor": 5
}
