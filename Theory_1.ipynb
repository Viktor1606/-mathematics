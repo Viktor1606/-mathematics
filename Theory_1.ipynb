{
 "cells": [
  {
   "cell_type": "code",
   "execution_count": 21,
   "id": "1053b13b",
   "metadata": {},
   "outputs": [],
   "source": [
    "import numpy as np"
   ]
  },
  {
   "cell_type": "markdown",
   "id": "bcbb72c6",
   "metadata": {},
   "source": [
    "# Задача 1\n",
    "\n",
    "Имеется колода в 52 карты. Найти число возможностей вытянуть из неё 4 карты так, чтобы среди них был хотя бы один туз."
   ]
  },
  {
   "cell_type": "code",
   "execution_count": 24,
   "id": "819489a1",
   "metadata": {},
   "outputs": [],
   "source": [
    "def combinations(n: int, k: int) -> int:\n",
    "    return np.math.factorial(n) // (np.math.factorial(k) * np.math.factorial(n - k))"
   ]
  },
  {
   "cell_type": "code",
   "execution_count": 25,
   "id": "1e909711",
   "metadata": {},
   "outputs": [
    {
     "data": {
      "text/plain": [
       "76145"
      ]
     },
     "execution_count": 25,
     "metadata": {},
     "output_type": "execute_result"
    }
   ],
   "source": [
    "sum(combinations(4,i) * combinations(48,4-i) for i in range(1,5))"
   ]
  },
  {
   "cell_type": "markdown",
   "id": "2de6af2e",
   "metadata": {},
   "source": [
    "# Задачи 2 и 3\n",
    "\n",
    "Из 60 вопросов, входящих в экзаменационные билеты, студент знает 50. Случайным образом студент вытягивает 3 вопроса. Какова вероятность, что все выбранные вопросы знакомы студенту? Какова вероятность что два из трёх вопросов знакомы студенту?\n",
    "\n",
    "Посчитаем общее число исходов при вытягивании 3 билетов из 60: 60/(3*57)= (60*59*60)/6 = 0.572"
   ]
  },
  {
   "cell_type": "code",
   "execution_count": 28,
   "id": "297d0466",
   "metadata": {},
   "outputs": [
    {
     "data": {
      "text/plain": [
       "0.5727644652250146"
      ]
     },
     "execution_count": 28,
     "metadata": {},
     "output_type": "execute_result"
    }
   ],
   "source": [
    "combinations(50,3)/ combinations(60,3)"
   ]
  },
  {
   "cell_type": "markdown",
   "id": "6c9cf545",
   "metadata": {},
   "source": [
    "Теперь посчитаем число благоприятных исходов для второго события выбрав 2 знакомых билета из 50 и 1 незнакомый билет из 10: ((50 * 49)/2)*10 = 0.358"
   ]
  },
  {
   "cell_type": "code",
   "execution_count": 29,
   "id": "5b753ab2",
   "metadata": {},
   "outputs": [
    {
     "data": {
      "text/plain": [
       "0.35797779076563413"
      ]
     },
     "execution_count": 29,
     "metadata": {},
     "output_type": "execute_result"
    }
   ],
   "source": [
    "combinations(50,2)*combinations(10,1)/combinations(60,3)"
   ]
  },
  {
   "cell_type": "markdown",
   "id": "0cbed36a",
   "metadata": {},
   "source": [
    "# Задача 4\n",
    "\n",
    "Допустим, имеется некоторая очень редкая болезнь (поражает 0.1% населения). Вы приходите к врачу, вам делают тест на эту болезнь, и тест оказывается положительным. Врач говорит вам, что этот тест верно выявляет 99% больных этой болезнью и всего лишь в 1% случаев даёт ложный положительный ответ.\n",
    "\n",
    "Вопрос: какова вероятность, что вы действительно больны ей?\n",
    "\n",
    "Воспользуемся формулой Байоса:\n",
    "А- вы больны болезнью\n",
    "В - для вас тест на эту болзнь оказался положительным.\n",
    "Найдем вероятность Р(А|В) так как мы знаем что тест положителен.\n",
    "Необходимо вероятность выполнения двух событий (В|A) умножим на вроятность того что вы уже больны этой болезнью (А) и разделим всё на вероятность что тест дал положительный ответ.\n",
    "Далее раскрываем знаменатель по формуле полной верояности:\n",
    "(В)= (В|A)*(A) + (B|неА)*(неА)"
   ]
  },
  {
   "cell_type": "code",
   "execution_count": null,
   "id": "df5dd3dd",
   "metadata": {},
   "outputs": [],
   "source": [
    "P = 0.001 * 0.99 + 0.999 * 0.01 "
   ]
  }
 ],
 "metadata": {
  "kernelspec": {
   "display_name": "Python 3",
   "language": "python",
   "name": "python3"
  },
  "language_info": {
   "codemirror_mode": {
    "name": "ipython",
    "version": 3
   },
   "file_extension": ".py",
   "mimetype": "text/x-python",
   "name": "python",
   "nbconvert_exporter": "python",
   "pygments_lexer": "ipython3",
   "version": "3.8.10"
  }
 },
 "nbformat": 4,
 "nbformat_minor": 5
}
