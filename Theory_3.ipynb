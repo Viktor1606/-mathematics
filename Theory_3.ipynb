{
 "cells": [
  {
   "cell_type": "markdown",
   "id": "5d81e956",
   "metadata": {},
   "source": [
    "## Задача 1\n",
    "Даны значения зарплат из выборки выпускников:\n",
    "100, 80, 75, 77, 89, 33, 45, 25, 65, 17, 30, 230, 24, 57, 55, 70, 75, 65, 84, 90, 150\n",
    "\n"
   ]
  },
  {
   "cell_type": "code",
   "execution_count": 52,
   "id": "454c08ae",
   "metadata": {},
   "outputs": [
    {
     "data": {
      "text/plain": [
       "21"
      ]
     },
     "execution_count": 52,
     "metadata": {},
     "output_type": "execute_result"
    }
   ],
   "source": [
    "a = [100, 80, 75, 77, 89, 33, 45, 25, 65, 17, 30, 230, 24, 57, 55, 70, 75, 65, 84, 90, 150]\n",
    "b = len(a)\n",
    "b"
   ]
  },
  {
   "cell_type": "code",
   "execution_count": 53,
   "id": "cf15804f",
   "metadata": {},
   "outputs": [
    {
     "data": {
      "text/plain": [
       "1536"
      ]
     },
     "execution_count": 53,
     "metadata": {},
     "output_type": "execute_result"
    }
   ],
   "source": [
    "c = sum(a)\n",
    "c"
   ]
  },
  {
   "cell_type": "code",
   "execution_count": 54,
   "id": "895afa74",
   "metadata": {},
   "outputs": [
    {
     "data": {
      "text/plain": [
       "73.14285714285714"
      ]
     },
     "execution_count": 54,
     "metadata": {},
     "output_type": "execute_result"
    }
   ],
   "source": [
    "d = (c/b)\n",
    "d"
   ]
  },
  {
   "cell_type": "code",
   "execution_count": 55,
   "id": "0ee1c080",
   "metadata": {},
   "outputs": [
    {
     "data": {
      "text/plain": [
       "46.20686994"
      ]
     },
     "execution_count": 55,
     "metadata": {},
     "output_type": "execute_result"
    }
   ],
   "source": [
    "new_list = [((i - d)**2)/b for i in a]\n",
    "z = sum(new_list)**0.5\n",
    "z = float('{:.8f}'.format(z))\n",
    "z"
   ]
  },
  {
   "cell_type": "markdown",
   "id": "2530f516",
   "metadata": {},
   "source": [
    "## Задача 2\n",
    "Найдите число выбросов в выборке из задачи 1. Для определения выбросов используйте методику как при построении “усов” в boxplot, однако, как и в задаче 1, пользоваться можно только встроенными функциями и структурами данных.\n"
   ]
  },
  {
   "cell_type": "code",
   "execution_count": null,
   "id": "751a1a8d",
   "metadata": {},
   "outputs": [],
   "source": [
    "Сортируем список"
   ]
  },
  {
   "cell_type": "code",
   "execution_count": 60,
   "id": "6d5a12aa",
   "metadata": {},
   "outputs": [
    {
     "data": {
      "text/plain": [
       "[17,\n",
       " 24,\n",
       " 25,\n",
       " 30,\n",
       " 33,\n",
       " 45,\n",
       " 55,\n",
       " 57,\n",
       " 65,\n",
       " 65,\n",
       " 70,\n",
       " 75,\n",
       " 75,\n",
       " 77,\n",
       " 80,\n",
       " 84,\n",
       " 89,\n",
       " 90,\n",
       " 100,\n",
       " 150,\n",
       " 230]"
      ]
     },
     "execution_count": 60,
     "metadata": {},
     "output_type": "execute_result"
    }
   ],
   "source": [
    "a.sort()\n",
    "a"
   ]
  },
  {
   "cell_type": "markdown",
   "id": "d8c95b18",
   "metadata": {},
   "source": [
    "Находим медиану"
   ]
  },
  {
   "cell_type": "code",
   "execution_count": 68,
   "id": "1178d07a",
   "metadata": {},
   "outputs": [
    {
     "data": {
      "text/plain": [
       "10"
      ]
     },
     "execution_count": 68,
     "metadata": {},
     "output_type": "execute_result"
    }
   ],
   "source": [
    "def median(a):\n",
    "    n= len(a)\n",
    "    mid = n // 2\n",
    "    if n % 2 == 1:\n",
    "        return sorted(a)[mid]\n",
    "    else:\n",
    "        return mean(sorted(a)[mid-1:][:2])\n",
    "mid"
   ]
  },
  {
   "cell_type": "code",
   "execution_count": null,
   "id": "5bdebfa9",
   "metadata": {},
   "outputs": [],
   "source": [
    "Находим квантиль"
   ]
  },
  {
   "cell_type": "code",
   "execution_count": 73,
   "id": "21b94b48",
   "metadata": {},
   "outputs": [
    {
     "data": {
      "text/plain": [
       "5.25"
      ]
     },
     "execution_count": 73,
     "metadata": {},
     "output_type": "execute_result"
    }
   ],
   "source": [
    "Q1 = n * 0.25\n",
    "Q1"
   ]
  },
  {
   "cell_type": "code",
   "execution_count": 75,
   "id": "d850bef3",
   "metadata": {},
   "outputs": [
    {
     "data": {
      "text/plain": [
       "10.5"
      ]
     },
     "execution_count": 75,
     "metadata": {},
     "output_type": "execute_result"
    }
   ],
   "source": [
    "Q2 = n * 0.5\n",
    "Q2"
   ]
  },
  {
   "cell_type": "code",
   "execution_count": 76,
   "id": "a0395ed7",
   "metadata": {},
   "outputs": [
    {
     "data": {
      "text/plain": [
       "15.75"
      ]
     },
     "execution_count": 76,
     "metadata": {},
     "output_type": "execute_result"
    }
   ],
   "source": [
    "Q3 = n * 0.75\n",
    "Q3"
   ]
  },
  {
   "cell_type": "code",
   "execution_count": 87,
   "id": "cb1a4fa9",
   "metadata": {},
   "outputs": [
    {
     "data": {
      "text/plain": [
       "10.5"
      ]
     },
     "execution_count": 87,
     "metadata": {},
     "output_type": "execute_result"
    }
   ],
   "source": [
    "IQR = Q3 - Q1\n",
    "IQR"
   ]
  },
  {
   "cell_type": "markdown",
   "id": "0294139b",
   "metadata": {},
   "source": [
    "Находим границы выбросов"
   ]
  },
  {
   "cell_type": "code",
   "execution_count": 92,
   "id": "75493705",
   "metadata": {},
   "outputs": [
    {
     "data": {
      "text/plain": [
       "-10.5"
      ]
     },
     "execution_count": 92,
     "metadata": {},
     "output_type": "execute_result"
    }
   ],
   "source": [
    "qun_1 = Q1 -1.5 * IQR\n",
    "qun_1"
   ]
  },
  {
   "cell_type": "code",
   "execution_count": 93,
   "id": "8262c775",
   "metadata": {},
   "outputs": [
    {
     "data": {
      "text/plain": [
       "31.5"
      ]
     },
     "execution_count": 93,
     "metadata": {},
     "output_type": "execute_result"
    }
   ],
   "source": [
    "qun_2 = Q3 + 1.5 * IQR\n",
    "qun_2"
   ]
  },
  {
   "cell_type": "markdown",
   "id": "9974a064",
   "metadata": {},
   "source": [
    "Всё что находится за границами < -10.5 и >31.5 считается выбросами"
   ]
  },
  {
   "cell_type": "markdown",
   "id": "8c058457",
   "metadata": {},
   "source": [
    "Дальше не понял как делать без библиотек( буду рад если разъясните мне что нужно было сделать)\n"
   ]
  },
  {
   "cell_type": "markdown",
   "id": "37e8d243",
   "metadata": {},
   "source": [
    "## Задача 3\n",
    "В университет на факультет A поступило 100 человек, на факультет B - 90 человек и на факультет C - 45 человек. Вероятность того, что студент с факультета A сдаст первую сессию, равна 0.6. Для студента с факультета B эта вероятность равна 0.7, а для студента с факультета C - 0.8. Случайным образом выбирается студент, сдавший первую сессию. Какое событие наиболее вероятно:\n",
    "\n",
    "студент учится на факультете A,\n",
    "\n",
    "студент учится на факультете B,\n",
    "\n",
    "студент учится на факультете C?\n"
   ]
  },
  {
   "cell_type": "code",
   "execution_count": 102,
   "id": "43c5d28a",
   "metadata": {},
   "outputs": [
    {
     "data": {
      "text/plain": [
       "60.0"
      ]
     },
     "execution_count": 102,
     "metadata": {},
     "output_type": "execute_result"
    }
   ],
   "source": [
    "v1 = 100 * 0.6\n",
    "v1"
   ]
  },
  {
   "cell_type": "code",
   "execution_count": 103,
   "id": "c6a3ff4b",
   "metadata": {},
   "outputs": [
    {
     "data": {
      "text/plain": [
       "62.99999999999999"
      ]
     },
     "execution_count": 103,
     "metadata": {},
     "output_type": "execute_result"
    }
   ],
   "source": [
    "v2 = 90 * 0.7\n",
    "v2"
   ]
  },
  {
   "cell_type": "code",
   "execution_count": 104,
   "id": "857c6d19",
   "metadata": {},
   "outputs": [
    {
     "data": {
      "text/plain": [
       "36.0"
      ]
     },
     "execution_count": 104,
     "metadata": {},
     "output_type": "execute_result"
    }
   ],
   "source": [
    "v3 = 45 * 0.8\n",
    "v3"
   ]
  },
  {
   "cell_type": "markdown",
   "id": "58cd7345",
   "metadata": {},
   "source": [
    "Ответ: студент с факультета В"
   ]
  }
 ],
 "metadata": {
  "kernelspec": {
   "display_name": "Python 3",
   "language": "python",
   "name": "python3"
  },
  "language_info": {
   "codemirror_mode": {
    "name": "ipython",
    "version": 3
   },
   "file_extension": ".py",
   "mimetype": "text/x-python",
   "name": "python",
   "nbconvert_exporter": "python",
   "pygments_lexer": "ipython3",
   "version": "3.8.10"
  }
 },
 "nbformat": 4,
 "nbformat_minor": 5
}
